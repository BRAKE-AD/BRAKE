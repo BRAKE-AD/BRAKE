{
 "cells": [
  {
   "cell_type": "code",
   "execution_count": null,
   "id": "b82de5ac",
   "metadata": {},
   "outputs": [],
   "source": [
    "# Upload dataset in /kaggle/input/comma2k19\n",
    "'''\n",
    "Folder should look like:\n",
    "\n",
    " comma2k19/\n",
    "      comma/\n",
    "          road_trainval_v1.0.json\n",
    "          - rgb-images/\n",
    "                - comma-video-name-1/\n",
    "                    - images ......\n",
    "                - comma-video-name-2/\n",
    "                    - images ......\n",
    "                ....\n",
    "'''"
   ]
  },
  {
   "cell_type": "code",
   "execution_count": null,
   "id": "f0992048",
   "metadata": {},
   "outputs": [],
   "source": [
    "#Upload trained weights in /kaggle/input/road-trained-weights\n",
    "'''\n",
    "Folder should look like:\n",
    "\n",
    "road-trained-weights/\n",
    "      model_000030.pth\n",
    "'''"
   ]
  },
  {
   "cell_type": "code",
   "execution_count": null,
   "id": "6d99dfd1",
   "metadata": {},
   "outputs": [],
   "source": [
    "# Create folder to save outputs\n",
    "import os\n",
    "#Comma\n",
    "os.makedirs('/kaggle/working/road-save/comma/cache/resnet50I3D512-Pkinetics-b4s8x1x1-commat3-h3x3x3/', exist_ok=True)"
   ]
  },
  {
   "cell_type": "code",
   "execution_count": null,
   "id": "3488681f",
   "metadata": {},
   "outputs": [],
   "source": [
    "#Gather trained weights\n",
    "!cp -r ../input/road-trained-weights/* ./road-save/comma/cache/resnet50I3D512-Pkinetics-b4s8x1x1-commat3-h3x3x3/"
   ]
  },
  {
   "cell_type": "code",
   "execution_count": null,
   "id": "4cb3262a",
   "metadata": {},
   "outputs": [],
   "source": [
    "# Install dependecies\n",
    "!pip install tensorboardX"
   ]
  },
  {
   "cell_type": "code",
   "execution_count": null,
   "id": "dc6cf127",
   "metadata": {},
   "outputs": [],
   "source": [
    "#Clone the model\n",
    "!git clone https://github.com/BRAKE-AD/BRAKE.git\n",
    "%cd /kaggle/working/BRAKE/3D-RetinaNet/"
   ]
  },
  {
   "cell_type": "code",
   "execution_count": null,
   "id": "c351cecf",
   "metadata": {},
   "outputs": [],
   "source": [
    "#Run the Concept Extraction on Comma2k19\n",
    "!python main.py \\\n",
    "/kaggle/input/comma2k19/ \\\n",
    "/kaggle/working/road-save/ \\\n",
    "--DATASET=comma --MODE=extract_concepts \\\n",
    "--TEST_SEQ_LEN=8  \\\n",
    "--TEST_BATCH_SIZE=2 --NUM_WORKERS=4 "
   ]
  }
 ],
 "metadata": {
  "language_info": {
   "name": "python"
  }
 },
 "nbformat": 4,
 "nbformat_minor": 5
}
