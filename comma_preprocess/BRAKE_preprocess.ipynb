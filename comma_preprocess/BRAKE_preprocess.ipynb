{
 "cells": [
  {
   "cell_type": "code",
   "execution_count": null,
   "metadata": {
    "_cell_guid": "b1076dfc-b9ad-4769-8c92-a6c4dae69d19",
    "_uuid": "8f2839f25d086af736a60e9eeb907d3b93b6e0e5",
    "execution": {
     "iopub.execute_input": "2025-05-22T13:37:14.558753Z",
     "iopub.status.busy": "2025-05-22T13:37:14.558424Z",
     "iopub.status.idle": "2025-05-22T13:54:58.325419Z",
     "shell.execute_reply": "2025-05-22T13:54:58.323746Z",
     "shell.execute_reply.started": "2025-05-22T13:37:14.558723Z"
    },
    "trusted": true
   },
   "outputs": [],
   "source": [
    "import h5py\n",
    "import numpy as np\n",
    "from tqdm import tqdm\n",
    "from scipy import ndimage\n",
    "import os\n",
    "\n",
    "# Input path of HDF5 files on Kaggle\n",
    "base_path = \"/kaggle/input/hdf5-chunk1\" \n",
    "\n",
    "# Output directory writable on Kaggle\n",
    "output_dir = \"/kaggle/working\"\n",
    "\n",
    "dataset_types = ['train', 'val', 'test']\n",
    "\n",
    "for dataset_type in dataset_types:\n",
    "    input_path = os.path.join(base_path, f\"gas_and_brake_{dataset_type}_comma_chunk_1_w_imgs.h5py\")\n",
    "    output_path = os.path.join(output_dir, f\"filtered_chunk1_{dataset_type}.hdf5\")\n",
    "\n",
    "    print(f\"🔄 Processing {dataset_type} from: {input_path}\")\n",
    "\n",
    "    if not os.path.exists(input_path):\n",
    "        print(f\"❌ File not found: {input_path}\")\n",
    "        continue\n",
    "\n",
    "    with h5py.File(input_path, \"r\") as h5_file, h5py.File(output_path, \"w\") as h_out:\n",
    "        keys = list(h5_file.keys())\n",
    "\n",
    "        for key in tqdm(keys, desc=f\"Processing {dataset_type}\"):\n",
    "            group_in = h5_file[key]\n",
    "\n",
    "            #if 'desired_dist' not in group_in:\n",
    "             #   continue\n",
    "\n",
    "            #desired = np.array(group_in['desired_dist'][()])\n",
    "            #filtered = ndimage.median_filter(desired, size=12)\n",
    "\n",
    "            #if (filtered == 0).mean() > 0.2:\n",
    "             #   continue  # scarta campioni poco informativi\n",
    "\n",
    "            group_out = h_out.create_group(key)\n",
    "\n",
    "            for col in group_in.keys():\n",
    "                dt = np.float32 if col != 'image' else int\n",
    "                group_out.create_dataset(\n",
    "                    col,\n",
    "                    data=group_in[col],\n",
    "                    compression='gzip',\n",
    "                    compression_opts=6,\n",
    "                    chunks=True\n",
    "                )\n",
    "\n",
    "    print(f\"✅ Saved in: {output_path}\\n\")"
   ]
  },
  {
   "cell_type": "code",
   "execution_count": null,
   "metadata": {},
   "outputs": [],
   "source": [
    "import h5py\n",
    "import os\n",
    "import cv2\n",
    "import numpy as np\n",
    "from tqdm import tqdm\n",
    "\n",
    "# === CONFIGURATION ===\n",
    "input_file = \"/Users/gabriele/Desktop/Magistrale/Explainable_and_trustworthy_AI/progetti/venv/concept_gridlock/filtered_chunk1_test2.hdf5\"  # or val/test\n",
    "output_dir = \"/Users/gabriele/Desktop/Magistrale/Explainable_and_trustworthy_AI/progetti/venv/concept_gridlock/videos_test2\"  # Output directory\n",
    "os.makedirs(output_dir, exist_ok=True)\n",
    "\n",
    "# === MAIN FUNCTION ===\n",
    "with h5py.File(input_file, \"r\") as h5f:\n",
    "    for seq_key in tqdm(h5f.keys(), desc=\"Processing sequences\"):\n",
    "        group = h5f[seq_key]\n",
    "\n",
    "        if 'image' not in group:\n",
    "            print(f\"❌ No image for {seq_key}\")\n",
    "            continue\n",
    "\n",
    "        images = group['image'][()]  # shape (N, H, W, 3)\n",
    "\n",
    "        \n",
    "        if len(images) < 2:\n",
    "            print(f\"⚠️ Sequence too short: {seq_key}\")\n",
    "            continue\n",
    "\n",
    "        height, width = images[0].shape[0], images[0].shape[1]\n",
    "        video_name = seq_key.replace(\"|\", \"_\") + \".mp4\"  \n",
    "        video_path = os.path.join(output_dir, video_name)\n",
    "        fourcc = cv2.VideoWriter_fourcc(*'mp4v')\n",
    "        out = cv2.VideoWriter(video_path, fourcc, 10, (width, height))  # 10 FPS\n",
    "\n",
    "        for img in images:\n",
    "            img_bgr = cv2.cvtColor(img.astype(np.uint8), cv2.COLOR_RGB2BGR)\n",
    "            out.write(img_bgr)\n",
    "\n",
    "        out.release()\n",
    "        print(f\"🎥 Video saved: {video_path}\")"
   ]
  }
 ],
 "metadata": {
  "kaggle": {
   "accelerator": "none",
   "dataSources": [
    {
     "datasetId": 7484651,
     "sourceId": 11906302,
     "sourceType": "datasetVersion"
    }
   ],
   "dockerImageVersionId": 31040,
   "isGpuEnabled": false,
   "isInternetEnabled": false,
   "language": "python",
   "sourceType": "notebook"
  },
  "kernelspec": {
   "display_name": "venv",
   "language": "python",
   "name": "python3"
  },
  "language_info": {
   "codemirror_mode": {
    "name": "ipython",
    "version": 3
   },
   "file_extension": ".py",
   "mimetype": "text/x-python",
   "name": "python",
   "nbconvert_exporter": "python",
   "pygments_lexer": "ipython3",
   "version": "3.13.7"
  }
 },
 "nbformat": 4,
 "nbformat_minor": 4
}
