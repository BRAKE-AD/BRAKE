{
 "cells": [
  {
   "cell_type": "code",
   "execution_count": null,
   "metadata": {
    "_cell_guid": "b1076dfc-b9ad-4769-8c92-a6c4dae69d19",
    "_uuid": "8f2839f25d086af736a60e9eeb907d3b93b6e0e5",
    "execution": {
     "iopub.execute_input": "2025-06-02T08:52:26.296520Z",
     "iopub.status.busy": "2025-06-02T08:52:26.296287Z",
     "iopub.status.idle": "2025-06-02T08:54:01.091608Z",
     "shell.execute_reply": "2025-06-02T08:54:01.090878Z",
     "shell.execute_reply.started": "2025-06-02T08:52:26.296492Z"
    },
    "trusted": true
   },
   "outputs": [],
   "source": [
    "!git clone https://github.com/BRAKE-AD/BRAKE.git\n",
    "!pip install git+https://github.com/openai/CLIP.git\n",
    "%cd BRAKE\n",
    "!pip uninstall -y lightning pytorch-lightning\n",
    "!pip install pytorch-lightning==1.9.4"
   ]
  },
  {
   "cell_type": "code",
   "execution_count": null,
   "metadata": {
    "execution": {
     "iopub.execute_input": "2025-06-02T09:12:29.124381Z",
     "iopub.status.busy": "2025-06-02T09:12:29.123637Z",
     "iopub.status.idle": "2025-06-02T09:13:11.837404Z",
     "shell.execute_reply": "2025-06-02T09:13:11.833484Z",
     "shell.execute_reply.started": "2025-06-02T09:12:29.124351Z"
    },
    "trusted": true
   },
   "outputs": [],
   "source": [
    "#TRAIN\n",
    "!python3 main.py -dataset comma -backbone none -concept_features -ground_truth normal -train -gpu_num 1  -max_epochs 100 -task angle -bs 2 -concept_source retinanet -train_concepts"
   ]
  },
  {
   "cell_type": "code",
   "execution_count": null,
   "metadata": {},
   "outputs": [],
   "source": [
    "#TEST\n",
    "!python3 main.py -dataset comma -backbone none -concept_features -ground_truth normal -test -gpu_num 1 -task angle -bs 2 -concept_source retinanet"
   ]
  }
 ],
 "metadata": {
  "kaggle": {
   "accelerator": "nvidiaTeslaT4",
   "dataSources": [
    {
     "datasetId": 7488087,
     "sourceId": 11911059,
     "sourceType": "datasetVersion"
    },
    {
     "datasetId": 7488724,
     "sourceId": 11911945,
     "sourceType": "datasetVersion"
    }
   ],
   "dockerImageVersionId": 31041,
   "isGpuEnabled": true,
   "isInternetEnabled": true,
   "language": "python",
   "sourceType": "notebook"
  },
  "kernelspec": {
   "display_name": "Python 3",
   "language": "python",
   "name": "python3"
  },
  "language_info": {
   "codemirror_mode": {
    "name": "ipython",
    "version": 3
   },
   "file_extension": ".py",
   "mimetype": "text/x-python",
   "name": "python",
   "nbconvert_exporter": "python",
   "pygments_lexer": "ipython3",
   "version": "3.11.11"
  }
 },
 "nbformat": 4,
 "nbformat_minor": 4
}
